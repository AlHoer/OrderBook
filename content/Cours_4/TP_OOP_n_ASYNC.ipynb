{
 "cells": [
  {
   "cell_type": "markdown",
   "id": "885a2612-8c69-4893-bd98-3b733e556dbc",
   "metadata": {},
   "source": [
    "# TP - Creer un outil de récupération de donnée "
   ]
  },
  {
   "cell_type": "markdown",
   "id": "22b643d8",
   "metadata": {},
   "source": [
    "{{< downloadthis TP_OOP_n_ASYNC.ipynb dname=File label=\"Telecharger le Notebook de TP\" icon=file-earmark-jupyter type=success >}}"
   ]
  },
  {
   "cell_type": "markdown",
   "id": "a3bddc40-c5c1-4287-bdfc-932345bd0677",
   "metadata": {},
   "source": [
    "## Objectifs de la session :\n",
    "\n",
    "- Utiliser la programmation orientée objet (POO) pour structurer le code et encapsuler les méthodes\n",
    "- Utiliser requests pour récupérer des données sur Internet\n",
    "- Utiliser pandas pour réagréger ces données\n",
    "- Ajouter une méthode asynchrone pour améliorer les performances\n"
   ]
  },
  {
   "cell_type": "markdown",
   "id": "56093d03-89cd-4814-9c56-6d89b9359f3e",
   "metadata": {},
   "source": [
    "## Sujets:\n",
    "\n",
    "L'objectif est de créer une classe encapsulant la récupération de bars OHLCV depuis une API, en permettant une aggrégation à une fréquence différente de celle des données récupérées.\n",
    "\n",
    "\n",
    "### Rappel:\n",
    "Pour rappel, les OHLCV signifie simplement Open, high, low, close, volume, il s'agit d'une des formes les plus standard d'aggrégation de données financiere de marché.\n",
    "En effet, pour n'importe quel marchés (dans le sens carnet d'ordre avec un asset et une currency, que ce soit du forex, des contrats, des crypto, des equity..), la donnée brute du marché est, d'une part couteuse auprès des provider, d'autres part difficile à utiliser et à comprendre facilement.\n",
    "En effet, la donnée la plus brute serait l'ensemble des ajouts, modfication et annulation d'ordre sur le marché, ce qui avec les marchés éléctroniques et le trading algorithmique représente une quantité colossalle par jour.\n",
    "Une version filtré de celle-ci est l'ensemble des transactions ayant eu lieue durant la journée, ce qui réduit très grandement la quantité de données mais reste très peu pratique.\n",
    "Les bars OHLCV sont une représentation aggrégé de cette donnée, car elle représente sur chaque période l'aggrégation par premier, dernier, max, min, somme...\n",
    "\n",
    "\n",
    "### API utilisée:\n",
    "Pour le TP d'aujourd'hui nous allons utiliser les bars OHLCV de l'API de Binance, car celle-ci ne necessitent pas d'authentification, mais seulement une limite de requette par minute par IP.\n",
    "Les données peuvent être récupéré par requette get sur des urls construit comme: https://api.binance.com/api/v3/klines?symbol=BTCUSDT&interval=30m \n",
    "\n",
    "la documentation se trouvant ici:\n",
    "https://binance-docs.github.io/apidocs/spot/en/#kline-candlestick-data\n",
    "\n",
    "### Consignes:\n",
    "\n",
    "**Objectif final:**\n",
    "- Pouvoir récupérer facilement pour n'importe quel symbol/liste de symbols les bars à la minute sur une période donnée\n",
    "- Pouvoir étendre cette période ensuite\n",
    "- Pouvoir recuperer des données aggrégés à une autre fréquence (>1minute) en aggregant les données déjà acquise\n",
    "- Ajouter une option pour effectuer la récupération de facon asynchrone\n",
    "\n",
    "**etape 1: Penser la classe:**\n",
    "Construire une classe permettant de représenter le problème ci-dessus:\n",
    "- Poser d'abord sur papier / en brouillon de code la classe de base, ses attributes et ses méthodes\n",
    "- Penser à comment vous aller pouvoir l'utiliser ensuite\n",
    "\n",
    "**etape 2: Implementer le minimum necessaire et tester avec requests:**\n",
    "- Avant de se lancer dans l'aggrégation et dans l'async, implementer de facon iterative en testant votre code\n",
    "\n",
    "**etape 3: Ajouter une méthode pour acceder au donnée récupéré avec une autre fréquence**\n",
    "\n",
    "**etape 4: Creer une variance de votre méthode de récupération qui est asynchrone**\n",
    "- Idéallement, vous avez séparé le code de sorte que chaque requette soit effectué dans une fonction\n",
    "- Ainsi il est possible d'utiliser asyncio.gather/asyncio.wait pour attendre de multiples coroutines"
   ]
  },
  {
   "cell_type": "code",
   "execution_count": 6,
   "id": "30ed0301-0364-411c-a61e-19ca148517a9",
   "metadata": {},
   "outputs": [],
   "source": [
    "# Good Luck\n",
    "\n",
    "\n"
   ]
  },
  {
   "cell_type": "markdown",
   "id": "c26bf145-2b64-4022-b018-30ba0e2f06f4",
   "metadata": {},
   "source": [
    "## NB: async et notebook\n",
    "\n",
    "Les notebook et un .py lancé normalement auront quelque différence dans le cas d'une utilisation asynchrone. \n",
    "En effet, dans un contexte standard (fichier .py), il est necessaire de créer une boucle d'evenement dans lequels les coroutines s'executeront.\n",
    "La façon standard de faire cela est:"
   ]
  },
  {
   "cell_type": "code",
   "execution_count": 10,
   "id": "9a03f609-ab52-4cca-ab7c-840b214cf665",
   "metadata": {},
   "outputs": [
    {
     "name": "stderr",
     "output_type": "stream",
     "text": [
      "<frozen genericpath>:89: RuntimeWarning: coroutine 'main' was never awaited\n",
      "RuntimeWarning: Enable tracemalloc to get the object allocation traceback\n"
     ]
    },
    {
     "ename": "RuntimeError",
     "evalue": "asyncio.run() cannot be called from a running event loop",
     "output_type": "error",
     "traceback": [
      "\u001b[0;31m---------------------------------------------------------------------------\u001b[0m",
      "\u001b[0;31mRuntimeError\u001b[0m                              Traceback (most recent call last)",
      "Cell \u001b[0;32mIn[10], line 10\u001b[0m\n\u001b[1;32m      7\u001b[0m     \u001b[38;5;28;01mpass\u001b[39;00m\n\u001b[1;32m      9\u001b[0m \u001b[38;5;28;01mif\u001b[39;00m \u001b[38;5;18m__name__\u001b[39m \u001b[38;5;241m==\u001b[39m \u001b[38;5;124m'\u001b[39m\u001b[38;5;124m__main__\u001b[39m\u001b[38;5;124m'\u001b[39m:\n\u001b[0;32m---> 10\u001b[0m     \u001b[43masyncio\u001b[49m\u001b[38;5;241;43m.\u001b[39;49m\u001b[43mrun\u001b[49m\u001b[43m(\u001b[49m\u001b[43mmain\u001b[49m\u001b[43m(\u001b[49m\u001b[43m)\u001b[49m\u001b[43m)\u001b[49m\n",
      "File \u001b[0;32m~/.pyenv/versions/3.12.1/lib/python3.12/asyncio/runners.py:190\u001b[0m, in \u001b[0;36mrun\u001b[0;34m(main, debug, loop_factory)\u001b[0m\n\u001b[1;32m    161\u001b[0m \u001b[38;5;250m\u001b[39m\u001b[38;5;124;03m\"\"\"Execute the coroutine and return the result.\u001b[39;00m\n\u001b[1;32m    162\u001b[0m \n\u001b[1;32m    163\u001b[0m \u001b[38;5;124;03mThis function runs the passed coroutine, taking care of\u001b[39;00m\n\u001b[0;32m   (...)\u001b[0m\n\u001b[1;32m    186\u001b[0m \u001b[38;5;124;03m    asyncio.run(main())\u001b[39;00m\n\u001b[1;32m    187\u001b[0m \u001b[38;5;124;03m\"\"\"\u001b[39;00m\n\u001b[1;32m    188\u001b[0m \u001b[38;5;28;01mif\u001b[39;00m events\u001b[38;5;241m.\u001b[39m_get_running_loop() \u001b[38;5;129;01mis\u001b[39;00m \u001b[38;5;129;01mnot\u001b[39;00m \u001b[38;5;28;01mNone\u001b[39;00m:\n\u001b[1;32m    189\u001b[0m     \u001b[38;5;66;03m# fail fast with short traceback\u001b[39;00m\n\u001b[0;32m--> 190\u001b[0m     \u001b[38;5;28;01mraise\u001b[39;00m \u001b[38;5;167;01mRuntimeError\u001b[39;00m(\n\u001b[1;32m    191\u001b[0m         \u001b[38;5;124m\"\u001b[39m\u001b[38;5;124masyncio.run() cannot be called from a running event loop\u001b[39m\u001b[38;5;124m\"\u001b[39m)\n\u001b[1;32m    193\u001b[0m \u001b[38;5;28;01mwith\u001b[39;00m Runner(debug\u001b[38;5;241m=\u001b[39mdebug, loop_factory\u001b[38;5;241m=\u001b[39mloop_factory) \u001b[38;5;28;01mas\u001b[39;00m runner:\n\u001b[1;32m    194\u001b[0m     \u001b[38;5;28;01mreturn\u001b[39;00m runner\u001b[38;5;241m.\u001b[39mrun(main)\n",
      "\u001b[0;31mRuntimeError\u001b[0m: asyncio.run() cannot be called from a running event loop"
     ]
    }
   ],
   "source": [
    "import asyncio\n",
    "\n",
    "# async and normal functions ....\n",
    "\n",
    "async def main():\n",
    "    # what you would have put in __name__ == '__main__' usually\n",
    "    pass\n",
    "\n",
    "if __name__ == '__main__':\n",
    "    asyncio.run(main())"
   ]
  },
  {
   "cell_type": "markdown",
   "id": "a1faf33f-4d1c-4e02-8fb2-74270c18960f",
   "metadata": {},
   "source": [
    "Ce qui est ci-dessus marche et est là façon la plus usuelle de lancer un code asynchrone dans un .py, mais dans un notebook vous obtiendrez une erreur:\n",
    "\n",
    "**RuntimeError: asyncio.run() cannot be called from a running event loop**\n",
    "\n",
    "En effet, le code s'execute déjà de façon asynchrone dans un notebook, et il n'y a pas besoin d'utiliser asyncio.run pour pouvoir utiliser await ! "
   ]
  },
  {
   "cell_type": "code",
   "execution_count": 59,
   "id": "d83f0999-343c-449d-91bd-d73b2eac66bb",
   "metadata": {},
   "outputs": [
    {
     "data": {
      "text/plain": [
       "<_UnixSelectorEventLoop running=True closed=False debug=False>"
      ]
     },
     "execution_count": 59,
     "metadata": {},
     "output_type": "execute_result"
    }
   ],
   "source": [
    "import asyncio\n",
    "\n",
    "async def test(x):\n",
    "    print('enter test - waiting', x)\n",
    "    await asyncio.sleep(x)\n",
    "    return x\n",
    "\n",
    "async def main():\n",
    "    a = await test(2)\n",
    "    b = await test(1)\n",
    "    print(a + b)\n",
    "    \n",
    "loop = asyncio.get_event_loop()\n",
    "loop"
   ]
  },
  {
   "cell_type": "markdown",
   "id": "379756ce-4a0e-4452-b758-1f5ca42df554",
   "metadata": {},
   "source": [
    "#### Il est donc possible d'attendre une fonction asynchrone directement en utilisant await:"
   ]
  },
  {
   "cell_type": "code",
   "execution_count": 9,
   "id": "6372e857-8ff9-4e0d-b56c-277d816c2a7a",
   "metadata": {},
   "outputs": [
    {
     "name": "stdout",
     "output_type": "stream",
     "text": [
      "enter test - waiting 2\n",
      "enter test - waiting 1\n",
      "3\n"
     ]
    }
   ],
   "source": [
    "await main()"
   ]
  },
  {
   "cell_type": "markdown",
   "id": "11347f02-541d-4552-8aaa-e354b9d69e46",
   "metadata": {},
   "source": [
    "#### Ce qui revient à l'ajouter à la boucle actuel"
   ]
  },
  {
   "cell_type": "code",
   "execution_count": 10,
   "id": "dd9defd2-9c57-458e-a306-acd64544e6d3",
   "metadata": {},
   "outputs": [
    {
     "name": "stdout",
     "output_type": "stream",
     "text": [
      "enter test - waiting 2\n",
      "enter test - waiting 1\n",
      "3\n"
     ]
    }
   ],
   "source": [
    "await loop.create_task(main())"
   ]
  },
  {
   "cell_type": "markdown",
   "id": "9269c7db-46d6-46ae-a2a8-3e9fc95b22d0",
   "metadata": {},
   "source": [
    "#### Une méthode possible pour lancer de façon similaire votre code entre un .py et un notebook est de creer un processus séparé pour executer le code, comme ci-dessous par exemple:"
   ]
  },
  {
   "cell_type": "code",
   "execution_count": 23,
   "id": "ad51dbb5-f265-4840-9dc1-4a32ac0308ec",
   "metadata": {},
   "outputs": [
    {
     "name": "stdout",
     "output_type": "stream",
     "text": [
      "enter test - waiting 2\n",
      "enter test - waiting 1\n",
      "3\n",
      "enter test - waiting 2\n",
      "enter test - waiting 1\n",
      "3\n",
      "enter test - waiting 2\n",
      "enter test - waiting 1\n",
      "3\n",
      "CPU times: user 14.6 ms, sys: 18.3 ms, total: 32.9 ms\n",
      "Wall time: 9.07 s\n"
     ]
    }
   ],
   "source": [
    "%%time \n",
    "\n",
    "import multiprocessing\n",
    "\n",
    "def run_in_process():\n",
    "    def run():\n",
    "        loop = asyncio.new_event_loop()\n",
    "        asyncio.run(main())\n",
    "\n",
    "    process = multiprocessing.Process(target=run)  #ou multiprocessing.Process(target=run, args=tuple d'argument) si vous avez des arguments dans votre fonction run\n",
    "    process.start() # démarre le processus\n",
    "    process.join() # l'attends --> rend le lancement de run_in_process bloquant, i.e. vous ne pouvez pas en lancer plusieurs à la fois\n",
    "\n",
    "run_in_process()\n",
    "run_in_process()\n",
    "run_in_process()"
   ]
  },
  {
   "cell_type": "markdown",
   "id": "59e98854-bae0-4d39-af23-306c2404ec17",
   "metadata": {},
   "source": [
    "#### En enlevant le join des process on attend plus les process et l'on execute les 3 boucles d'evenement en même temps"
   ]
  },
  {
   "cell_type": "code",
   "execution_count": 60,
   "id": "1e516d01-dfee-48ba-af7b-90b759d0951a",
   "metadata": {},
   "outputs": [
    {
     "name": "stdout",
     "output_type": "stream",
     "text": [
      "enter test - waiting 2CPU times: user 3.4 ms, sys: 12 ms, total: 15.4 ms\n",
      "Wall time: 13.4 ms\n",
      "\n",
      "\n",
      "enter test - waiting 2enter test - waiting 2\n",
      "enter test - waiting enter test - waiting1 \n",
      "1\n",
      "enter test - waiting 1\n",
      "33\n",
      "\n",
      "3\n"
     ]
    }
   ],
   "source": [
    "%%time \n",
    "\n",
    "def run_in_process():\n",
    "    def run():\n",
    "        loop = asyncio.new_event_loop()\n",
    "        asyncio.run(main())\n",
    "\n",
    "    process = multiprocessing.Process(target=run)  \n",
    "    process.start() \n",
    "    #process.join() # Ici l'on attend pas la fin du process\n",
    "\n",
    "run_in_process()\n",
    "run_in_process()\n",
    "run_in_process()"
   ]
  },
  {
   "cell_type": "markdown",
   "id": "cc419175-f83f-4fac-839b-2c18f6353898",
   "metadata": {},
   "source": [
    "#### Mais l'on voit que %%time n'affiche presque rien, en effet on ne verifie pas que les processus soit terminé avant de passer à la suite, on peut faire cela comme suit:"
   ]
  },
  {
   "cell_type": "code",
   "execution_count": 62,
   "id": "dc604f5f-fc72-4ac4-a9c1-e90e1ebc42b5",
   "metadata": {},
   "outputs": [
    {
     "name": "stdout",
     "output_type": "stream",
     "text": [
      "enter test - waiting 2enter test - waiting\n",
      " 2\n",
      "enter test - waiting 2\n",
      "enter test - waiting 1enter test - waiting \n",
      "1\n",
      "enter test - waiting 1\n",
      "3\n",
      "3\n",
      "3\n",
      "CPU times: user 5.22 ms, sys: 19.8 ms, total: 25.1 ms\n",
      "Wall time: 3.02 s\n"
     ]
    }
   ],
   "source": [
    "%%time\n",
    "\n",
    "def run_in_process():\n",
    "    def run():\n",
    "        loop = asyncio.new_event_loop()\n",
    "        asyncio.run(main())\n",
    "\n",
    "    process = multiprocessing.Process(target=run)  \n",
    "    process.start() \n",
    "    #process.join() # Ici l'on attend pas la fin du process\n",
    "    return process\n",
    "\n",
    "list_processes = []\n",
    "list_processes.append(run_in_process())\n",
    "list_processes.append(run_in_process())\n",
    "list_processes.append(run_in_process())\n",
    "for p in list_processes:\n",
    "    p.join()"
   ]
  },
  {
   "cell_type": "markdown",
   "id": "04f11726-c31c-4bdb-aeeb-59ae9c5876e7",
   "metadata": {},
   "source": [
    "## C'est peu ou prou la meme chose avec l'async - il faut bien penser à l'endroit où l'on va synchroniser les différents evenement \n",
    "### Petite note : %%time empeche d'utiliser normalement await dans une cellule"
   ]
  },
  {
   "cell_type": "code",
   "execution_count": 73,
   "id": "05d8eb07-48f9-436e-ae94-53059ae58920",
   "metadata": {},
   "outputs": [
    {
     "ename": "SyntaxError",
     "evalue": "'await' outside function (<timed exec>, line 12)",
     "output_type": "error",
     "traceback": [
      "\u001b[0;36m  File \u001b[0;32m<timed exec>:12\u001b[0;36m\u001b[0m\n\u001b[0;31mSyntaxError\u001b[0m\u001b[0;31m:\u001b[0m 'await' outside function\n"
     ]
    }
   ],
   "source": [
    "%%time \n",
    "\n",
    "import asyncio\n",
    "\n",
    "async def test(x):\n",
    "    print('enter test - waiting', x)\n",
    "    await asyncio.sleep(x)\n",
    "    return x\n",
    "\n",
    "async def main():\n",
    "    for k in range(5):\n",
    "        await test(k)\n",
    "\n",
    "await main()"
   ]
  },
  {
   "cell_type": "code",
   "execution_count": 92,
   "id": "14ab91b9-66da-4194-9b4b-d61319aeca39",
   "metadata": {},
   "outputs": [],
   "source": [
    "## Petit cadeau, voici un petit décorateur permettant de lancer dans un process la fonction async selectionné, permettant ainsi d'utiliser %%time de facon simple"
   ]
  },
  {
   "cell_type": "code",
   "execution_count": 88,
   "id": "c124ccf4-1c18-4430-b2db-eae37a73cfbd",
   "metadata": {},
   "outputs": [],
   "source": [
    "def run_in_process(async_func):\n",
    "    def wrapper(*args, **kwargs):\n",
    "        def run():\n",
    "            loop = asyncio.new_event_loop()\n",
    "            asyncio.run(async_func(*args, **kwargs))\n",
    "        process = multiprocessing.Process(target=run)  \n",
    "        process.start() \n",
    "        process.join()    \n",
    "    return wrapper\n",
    "    "
   ]
  },
  {
   "cell_type": "code",
   "execution_count": 91,
   "id": "1e1ba0d7-a0ca-4b4a-ad79-13ae58d1b0d4",
   "metadata": {},
   "outputs": [
    {
     "name": "stdout",
     "output_type": "stream",
     "text": [
      "enter test - waiting 0\n",
      "enter test - waiting 1\n",
      "enter test - waiting 2\n",
      "enter test - waiting 3\n",
      "CPU times: user 8.45 ms, sys: 8.05 ms, total: 16.5 ms\n",
      "Wall time: 6.03 s\n"
     ]
    }
   ],
   "source": [
    "%%time \n",
    "\n",
    "async def test(x):\n",
    "    print('enter test - waiting', x)\n",
    "    await asyncio.sleep(x)\n",
    "    return x\n",
    "\n",
    "@run_in_process\n",
    "async def main(k_max=3):\n",
    "    for k in range(k_max):\n",
    "        await test(k)\n",
    "\n",
    "main(k_max=4)"
   ]
  },
  {
   "cell_type": "markdown",
   "id": "546eb8ec-5d9f-479d-b630-0ac2fe8cb9f3",
   "metadata": {},
   "source": [
    "## On voit cependant au dessus que l'on a attendu 1+2+3 second - pas TOP\n",
    "### Il faut en fait utiliser gather par exemple pour pouvoir executer plusieurs coroutine en meme temps et les attendre"
   ]
  },
  {
   "cell_type": "code",
   "execution_count": 96,
   "id": "57155a4a-1dcd-417f-8247-fa28fb2aeba1",
   "metadata": {},
   "outputs": [
    {
     "name": "stdout",
     "output_type": "stream",
     "text": [
      "enter test - waiting 0\n",
      "enter test - waiting 1\n",
      "enter test - waiting 2\n",
      "enter test - waiting 3\n",
      "CPU times: user 0 ns, sys: 13.2 ms, total: 13.2 ms\n",
      "Wall time: 3.03 s\n"
     ]
    }
   ],
   "source": [
    "%%time \n",
    "\n",
    "async def test(x):\n",
    "    print('enter test - waiting', x)\n",
    "    await asyncio.sleep(x)\n",
    "    return x\n",
    "\n",
    "@run_in_process\n",
    "async def main(k_max=3):\n",
    "    coros = []\n",
    "    for k in range(k_max):\n",
    "        coros.append(test(k))\n",
    "    await asyncio.gather(*coros)\n",
    "\n",
    "main(k_max=4)"
   ]
  },
  {
   "cell_type": "markdown",
   "id": "8522bf7e-550f-43c1-884f-2981b1f2b44b",
   "metadata": {},
   "source": [
    "## Enfin, regardons pourquoi l'on utilisait asyncio.sleep à la place de time.sleep"
   ]
  },
  {
   "cell_type": "code",
   "execution_count": 97,
   "id": "134c81eb-9fc8-4368-8560-0359f7b210c1",
   "metadata": {},
   "outputs": [
    {
     "name": "stdout",
     "output_type": "stream",
     "text": [
      "enter test - waiting 0\n",
      "enter test - waiting 1\n",
      "enter test - waiting 2\n",
      "enter test - waiting 3\n",
      "CPU times: user 0 ns, sys: 13.9 ms, total: 13.9 ms\n",
      "Wall time: 6.02 s\n"
     ]
    }
   ],
   "source": [
    "%%time \n",
    "\n",
    "import time\n",
    "\n",
    "async def test(x):\n",
    "    print('enter test - waiting', x)\n",
    "    time.sleep(x)\n",
    "    return x\n",
    "\n",
    "@run_in_process\n",
    "async def main(k_max=3):\n",
    "    coros = []\n",
    "    for k in range(k_max):\n",
    "        coros.append(test(k))\n",
    "    await asyncio.gather(*coros)\n",
    "\n",
    "main(k_max=4)"
   ]
  },
  {
   "cell_type": "markdown",
   "id": "1c59fefb-2bf2-4d07-9bc1-1ffca526f374",
   "metadata": {},
   "source": [
    "### time.sleep est une fonction bloquante, cela veut dire que l'on ne peux pas effectuer d'autre coroutine en attendant que time.sleep s'execute !\n",
    "### C'est le cas pour toute fonction bloquante ! \n",
    "\n",
    "### Cependant il est possible de deleguer une fonction bloquante à un executor (qui est simplement un autre thread qui va se charger d'executer le code de la fonction)\n",
    "\n",
    "Avec cette option n'importe quel code peut être rendu asynchrone \n",
    "Toutefois si le code est CPU bound - c'est à dire que contrairement à sleep il demande au thread d'effectuer des taches - alors cela aura peut d'interet !"
   ]
  },
  {
   "cell_type": "code",
   "execution_count": 114,
   "id": "b48798e0-6195-4526-bf78-96fb221c1cd9",
   "metadata": {},
   "outputs": [
    {
     "name": "stdout",
     "output_type": "stream",
     "text": [
      "enter test - waitingenter test - waitingenter test - waitingenter test - waiting    203\n",
      "1\n",
      "\n",
      "\n",
      "CPU times: user 1.69 ms, sys: 11.7 ms, total: 13.4 ms\n",
      "Wall time: 3.02 s\n"
     ]
    }
   ],
   "source": [
    "%%time \n",
    "\n",
    "def test(x):\n",
    "    print('enter test - waiting', x)\n",
    "    time.sleep(x)\n",
    "    return x\n",
    "\n",
    "async def atest(x):\n",
    "    loop = asyncio.get_event_loop()\n",
    "    f = lambda : test(x)\n",
    "    await loop.run_in_executor(None, f)\n",
    "\n",
    "@run_in_process\n",
    "async def main(k_max=3):\n",
    "    coros = []\n",
    "    loop = asyncio.get_event_loop()\n",
    "    for k in range(k_max):\n",
    "        coros.append(atest(k))\n",
    "    await asyncio.gather(*coros)\n",
    "\n",
    "main(k_max=4)"
   ]
  }
 ],
 "metadata": {
  "kernelspec": {
   "display_name": "Python 3 (ipykernel)",
   "language": "python",
   "name": "python3"
  },
  "language_info": {
   "codemirror_mode": {
    "name": "ipython",
    "version": 3
   },
   "file_extension": ".py",
   "mimetype": "text/x-python",
   "name": "python",
   "nbconvert_exporter": "python",
   "pygments_lexer": "ipython3",
   "version": "3.12.1"
  }
 },
 "nbformat": 4,
 "nbformat_minor": 5
}
